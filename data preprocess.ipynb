{
 "cells": [
  {
   "cell_type": "code",
   "execution_count": 1,
   "id": "c45d756a-5190-4373-ac45-9158e7263d95",
   "metadata": {},
   "outputs": [],
   "source": [
    "import pandas as pd\n",
    "import numpy as np\n",
    "pd.set_option('display.max_columns', None)"
   ]
  },
  {
   "cell_type": "code",
   "execution_count": 2,
   "id": "3f12052c-e212-439e-a9bd-f59046281aaa",
   "metadata": {},
   "outputs": [],
   "source": [
    "data_path = 'data/youtube_scraping/'\n",
    "df = pd.read_csv(f'{data_path}vtuber_debut.csv')"
   ]
  },
  {
   "cell_type": "code",
   "execution_count": 3,
   "id": "6c4318e4-60f4-4a8d-b07c-e194c747c252",
   "metadata": {},
   "outputs": [],
   "source": [
    "df = df.loc[df['video_title'].str.contains('debut')].reset_index(drop=True)"
   ]
  },
  {
   "cell_type": "code",
   "execution_count": 4,
   "id": "4fbb5e76-fe7e-469c-b797-2d3529116119",
   "metadata": {},
   "outputs": [],
   "source": [
    "df_1 = df.loc[(df['channel_country']== 'ID')|(df['video_default_audio_language']=='id')].reset_index(drop=True)"
   ]
  },
  {
   "cell_type": "code",
   "execution_count": 5,
   "id": "cdef99fc-4a2e-4922-8a28-aa1a4ab66867",
   "metadata": {},
   "outputs": [
    {
     "data": {
      "text/plain": [
       "(68, 38)"
      ]
     },
     "execution_count": 5,
     "metadata": {},
     "output_type": "execute_result"
    }
   ],
   "source": [
    "df_1.shape"
   ]
  },
  {
   "cell_type": "code",
   "execution_count": 6,
   "id": "74d72a5e-32e8-4498-ab65-b11440a3b0ef",
   "metadata": {},
   "outputs": [],
   "source": [
    "df_1 = df_1.drop_duplicates(subset='channel_id')"
   ]
  },
  {
   "cell_type": "code",
   "execution_count": 7,
   "id": "9f840c45-63c0-429f-922f-c3908b287f10",
   "metadata": {},
   "outputs": [],
   "source": [
    "df_1['channel_custom_id'] = df_1['channel_custom_id'].apply(lambda x: x.removeprefix(\"@\"))"
   ]
  },
  {
   "cell_type": "code",
   "execution_count": 8,
   "id": "02382e38-c6db-496b-b5c8-f8ae7774c730",
   "metadata": {},
   "outputs": [],
   "source": [
    "df_1.set_index('channel_id',inplace=True)"
   ]
  },
  {
   "cell_type": "code",
   "execution_count": 9,
   "id": "58b664f9-be4c-4ee3-ab8c-a5271bd27f98",
   "metadata": {},
   "outputs": [
    {
     "data": {
      "text/plain": [
       "Index(['keyword', 'ranking', 'video_id', 'date_video_published(UTC)',\n",
       "       'video_title', 'video_description', 'video_thumbnail',\n",
       "       'video_default_audio_language', 'video_status', 'video_duration(s)',\n",
       "       'video_licenced_content', 'video_tag', 'video_view_count',\n",
       "       'video_like_count', 'video_favorite_count', 'video_comment_count',\n",
       "       'is_video_for_kids', 'video_topic_id', 'video_topic',\n",
       "       'video_start_time(UTC)', 'video_end_time(UTC)',\n",
       "       'video_scheduled_time(UTC)', 'channel_title',\n",
       "       'date_channel_create(UTC)', 'channel_country',\n",
       "       'channel_all_video_upload_playlist_id', 'channel_url',\n",
       "       'channel_owner_url', 'channel_description', 'channel_custom_id',\n",
       "       'channel_tag', 'is_channel_Family_safe', 'is_channel_hiden_sub',\n",
       "       'channel_topic', 'channel_view_count', 'channel_video_count',\n",
       "       'channel_subs_count'],\n",
       "      dtype='object')"
      ]
     },
     "execution_count": 9,
     "metadata": {},
     "output_type": "execute_result"
    }
   ],
   "source": [
    "df_1.columns"
   ]
  },
  {
   "cell_type": "code",
   "execution_count": 10,
   "id": "3d6a701b-2984-49d8-b1ed-b355238b82a9",
   "metadata": {},
   "outputs": [],
   "source": [
    "df_2 = pd.read_csv(f'{data_path}vtuber_debut_clean.csv')"
   ]
  },
  {
   "cell_type": "code",
   "execution_count": null,
   "id": "09b3a221-6349-4b2c-b236-bbe4adc55456",
   "metadata": {},
   "outputs": [],
   "source": [
    "df_2.columns"
   ]
  },
  {
   "cell_type": "code",
   "execution_count": null,
   "id": "0ba8e166-bce9-4868-9b55-a55dbc9d096c",
   "metadata": {},
   "outputs": [],
   "source": [
    "df_1.loc['is_vtuber',df_1.index] = np.nan"
   ]
  },
  {
   "cell_type": "code",
   "execution_count": 96,
   "id": "2a6dc895-b87e-4e76-b977-0b798ad68370",
   "metadata": {},
   "outputs": [
    {
     "name": "stderr",
     "output_type": "stream",
     "text": [
      "C:\\Users\\snsv\\AppData\\Local\\Temp\\ipykernel_7600\\2374594092.py:2: FutureWarning: ChainedAssignmentError: behaviour will change in pandas 3.0!\n",
      "You are setting values through chained assignment. Currently this works in certain cases, but when using Copy-on-Write (which will become the default behaviour in pandas 3.0) this will never work to update the original DataFrame or Series, because the intermediate object on which we are setting values will behave as a copy.\n",
      "A typical example is when you are setting values in a column of a DataFrame, like:\n",
      "\n",
      "df[\"col\"][row_indexer] = value\n",
      "\n",
      "Use `df.loc[row_indexer, \"col\"] = values` instead, to perform the assignment in a single step and ensure this keeps updating the original `df`.\n",
      "\n",
      "See the caveats in the documentation: https://pandas.pydata.org/pandas-docs/stable/user_guide/indexing.html#returning-a-view-versus-a-copy\n",
      "\n",
      "  df_1['is_vtuber'].loc[idx] = df_2['is_vtuber'].loc[idx]\n",
      "C:\\Users\\snsv\\AppData\\Local\\Temp\\ipykernel_7600\\2374594092.py:2: SettingWithCopyWarning: \n",
      "A value is trying to be set on a copy of a slice from a DataFrame\n",
      "\n",
      "See the caveats in the documentation: https://pandas.pydata.org/pandas-docs/stable/user_guide/indexing.html#returning-a-view-versus-a-copy\n",
      "  df_1['is_vtuber'].loc[idx] = df_2['is_vtuber'].loc[idx]\n"
     ]
    }
   ],
   "source": [
    "for idx in df_2.index:\n",
    "    df_1.loc['is_vtuber',idx] = df_2.loc['is_vtuber',idx]"
   ]
  },
  {
   "cell_type": "code",
   "execution_count": 15,
   "id": "ab235660-3eef-48b3-9ef5-8f6ad9b29155",
   "metadata": {},
   "outputs": [],
   "source": [
    "# df_1.to_csv(f'{data_path}vtuber_debut_clean.csv',index=False)"
   ]
  }
 ],
 "metadata": {
  "kernelspec": {
   "display_name": "Python 3 (ipykernel)",
   "language": "python",
   "name": "python3"
  },
  "language_info": {
   "codemirror_mode": {
    "name": "ipython",
    "version": 3
   },
   "file_extension": ".py",
   "mimetype": "text/x-python",
   "name": "python",
   "nbconvert_exporter": "python",
   "pygments_lexer": "ipython3",
   "version": "3.12.3"
  }
 },
 "nbformat": 4,
 "nbformat_minor": 5
}
